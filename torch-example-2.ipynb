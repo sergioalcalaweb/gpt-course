{
 "cells": [
  {
   "cell_type": "code",
   "execution_count": 2,
   "metadata": {},
   "outputs": [
    {
     "name": "stdout",
     "output_type": "stream",
     "text": [
      "mps\n"
     ]
    }
   ],
   "source": [
    "import torch\n",
    "import numpy as np\n",
    "import time\n",
    "\n",
    "# setting up for AMD chips \n",
    "# device = torch.device(\"cuda:0\" if torch.cuda.is_available() else \"cpu\")\n",
    "\n",
    "# setting up for chips Apple silicon\n",
    "device = torch.device(\"mps\" if torch.backends.mps.is_available() else \"cpu\")\n",
    "print(device)"
   ]
  },
  {
   "cell_type": "code",
   "execution_count": 3,
   "metadata": {},
   "outputs": [
    {
     "name": "stdout",
     "output_type": "stream",
     "text": [
      "Elapsed time: 0.0002\n"
     ]
    }
   ],
   "source": [
    "# capture current time before the operation\n",
    "# then create the tensor and capture the time again\n",
    "# to calculate the elapsed time\n",
    "start_time = time.time()\n",
    "zeros = torch.zeros(1,1)\n",
    "end_time = time.time()\n",
    "\n",
    "elapsed_time = end_time - start_time\n",
    "print(f\"Elapsed time: {elapsed_time:.4f}\")"
   ]
  },
  {
   "cell_type": "code",
   "execution_count": null,
   "metadata": {},
   "outputs": [
    {
     "name": "stdout",
     "output_type": "stream",
     "text": [
      "Elapsed time: 0.0187\n",
      "Elapsed time: 0.8674\n"
     ]
    }
   ],
   "source": [
    "# comparing between numpy and torch\n",
    "# Initialize a numpy random Generator with a seed\n",
    "rng = np.random.default_rng(seed=42)\n",
    "torch.manual_seed(42)\n",
    "\n",
    "# create two random tensors\n",
    "torch_rand1 = torch.randn(100, 100, 100, 100, device=device)\n",
    "torch_rand2 = torch.randn(100, 100, 100, 100, device=device)\n",
    "\n",
    "# create two numpy arrays\n",
    "np_rand1 = rng.random((100, 100, 100, 100))\n",
    "np_rand2 = rng.random((100, 100, 100, 100))\n",
    "\n",
    "\n",
    "# multiply the two tensors\n",
    "# capture the time before the operation\n",
    "# then multiply the tensors and capture the time again\n",
    "# to calculate the elapsed time\n",
    "start_time = time.time()\n",
    "rand = (torch_rand1 @ torch_rand2)\n",
    "end_time = time.time()\n",
    "\n",
    "elapsed_time = end_time - start_time\n",
    "print(f\"Elapsed time: {elapsed_time:.4f}\")\n",
    "\n",
    "# multiply the two numpy arrays\n",
    "# capture the time before the operation\n",
    "# then multiply the arrays and capture the time again\n",
    "# to calculate the elapsed time\n",
    "start_time = time.time()\n",
    "rand = np.multiply(np_rand1, np_rand2)\n",
    "end_time = time.time()\n",
    "elapsed_time = end_time - start_time\n",
    "print(f\"Elapsed time: {elapsed_time:.4f}\")"
   ]
  }
 ],
 "metadata": {
  "kernelspec": {
   "display_name": "cuda",
   "language": "python",
   "name": "python3"
  },
  "language_info": {
   "codemirror_mode": {
    "name": "ipython",
    "version": 3
   },
   "file_extension": ".py",
   "mimetype": "text/x-python",
   "name": "python",
   "nbconvert_exporter": "python",
   "pygments_lexer": "ipython3",
   "version": "3.13.2"
  }
 },
 "nbformat": 4,
 "nbformat_minor": 4
}
