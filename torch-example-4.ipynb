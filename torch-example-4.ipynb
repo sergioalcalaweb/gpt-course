{
 "cells": [
  {
   "cell_type": "code",
   "execution_count": 2,
   "metadata": {},
   "outputs": [
    {
     "name": "stdout",
     "output_type": "stream",
     "text": [
      "mps\n"
     ]
    }
   ],
   "source": [
    "import torch\n",
    "import numpy as np\n",
    "import time\n",
    "\n",
    "# setting up for AMD chips \n",
    "# device = torch.device(\"cuda:0\" if torch.cuda.is_available() else \"cpu\")\n",
    "\n",
    "# setting up for chips Apple silicon\n",
    "device = torch.device(\"mps\" if torch.backends.mps.is_available() else \"cpu\")\n",
    "print(device)"
   ]
  },
  {
   "cell_type": "code",
   "execution_count": 3,
   "metadata": {},
   "outputs": [
    {
     "name": "stdout",
     "output_type": "stream",
     "text": [
      "Elapsed time: 0.0002\n"
     ]
    }
   ],
   "source": [
    "start_time = time.time()\n",
    "zeros = torch.zeros(1,1)\n",
    "end_time = time.time()\n",
    "\n",
    "elapsed_time = end_time - start_time\n",
    "print(f\"Elapsed time: {elapsed_time:.4f}\")"
   ]
  },
  {
   "cell_type": "code",
   "execution_count": 4,
   "metadata": {},
   "outputs": [
    {
     "name": "stdout",
     "output_type": "stream",
     "text": [
      "tensor([1, 1, 1, 1, 1, 1, 0, 1, 1, 1])\n"
     ]
    }
   ],
   "source": [
    "probabilities = torch.tensor([0.1, 0.9])\n",
    "samples = torch.multinomial(probabilities, 10, True)\n",
    "print(samples)"
   ]
  },
  {
   "cell_type": "code",
   "execution_count": 5,
   "metadata": {},
   "outputs": [
    {
     "name": "stdout",
     "output_type": "stream",
     "text": [
      "tensor([1, 2, 3, 4, 5])\n"
     ]
    }
   ],
   "source": [
    "tensor = torch.tensor([1, 2, 3, 4])\n",
    "out = torch.cat((tensor, torch.tensor([5])), 0)\n",
    "print(out)"
   ]
  },
  {
   "cell_type": "code",
   "execution_count": 6,
   "metadata": {},
   "outputs": [
    {
     "name": "stdout",
     "output_type": "stream",
     "text": [
      "tensor([[1., 0., 0., 0., 0.],\n",
      "        [1., 1., 0., 0., 0.],\n",
      "        [1., 1., 1., 0., 0.],\n",
      "        [1., 1., 1., 1., 0.],\n",
      "        [1., 1., 1., 1., 1.]])\n"
     ]
    }
   ],
   "source": [
    "out = torch.tril(torch.ones(5,5))\n",
    "print(out)"
   ]
  },
  {
   "cell_type": "code",
   "execution_count": 7,
   "metadata": {},
   "outputs": [
    {
     "name": "stdout",
     "output_type": "stream",
     "text": [
      "tensor([[1., 1., 1., 1., 1.],\n",
      "        [0., 1., 1., 1., 1.],\n",
      "        [0., 0., 1., 1., 1.],\n",
      "        [0., 0., 0., 1., 1.],\n",
      "        [0., 0., 0., 0., 1.]])\n"
     ]
    }
   ],
   "source": [
    "out = torch.triu(torch.ones(5,5))\n",
    "print(out)"
   ]
  },
  {
   "cell_type": "code",
   "execution_count": 9,
   "metadata": {},
   "outputs": [
    {
     "data": {
      "text/plain": [
       "tensor([[0., -inf, -inf, -inf, -inf],\n",
       "        [0., 0., -inf, -inf, -inf],\n",
       "        [0., 0., 0., -inf, -inf],\n",
       "        [0., 0., 0., 0., -inf],\n",
       "        [0., 0., 0., 0., 0.]])"
      ]
     },
     "execution_count": 9,
     "metadata": {},
     "output_type": "execute_result"
    }
   ],
   "source": [
    "out = torch.zeros(5,5).masked_fill(torch.tril(torch.ones(5,5)) == 0, float('-inf'))\n",
    "out"
   ]
  },
  {
   "cell_type": "code",
   "execution_count": 10,
   "metadata": {},
   "outputs": [
    {
     "data": {
      "text/plain": [
       "tensor([[1., 0., 0., 0., 0.],\n",
       "        [1., 1., 0., 0., 0.],\n",
       "        [1., 1., 1., 0., 0.],\n",
       "        [1., 1., 1., 1., 0.],\n",
       "        [1., 1., 1., 1., 1.]])"
      ]
     },
     "execution_count": 10,
     "metadata": {},
     "output_type": "execute_result"
    }
   ],
   "source": [
    "torch.exp(out)"
   ]
  },
  {
   "cell_type": "code",
   "execution_count": 11,
   "metadata": {},
   "outputs": [
    {
     "data": {
      "text/plain": [
       "torch.Size([4, 3, 2])"
      ]
     },
     "execution_count": 11,
     "metadata": {},
     "output_type": "execute_result"
    }
   ],
   "source": [
    "input = torch.zeros(2, 3, 4)\n",
    "out = input.transpose(0, 2)\n",
    "out.shape"
   ]
  },
  {
   "cell_type": "code",
   "execution_count": null,
   "metadata": {},
   "outputs": [
    {
     "data": {
      "text/plain": [
       "tensor([[1, 2, 3],\n",
       "        [4, 5, 6],\n",
       "        [7, 8, 9]])"
      ]
     },
     "execution_count": 12,
     "metadata": {},
     "output_type": "execute_result"
    }
   ],
   "source": [
    "tensor1 = torch.tensor([1, 2, 3])\n",
    "tensor2 = torch.tensor([4, 5, 6])\n",
    "tensor3 = torch.tensor([7, 8, 9])\n",
    "stacked_tensor = torch.stack((tensor1, tensor2, tensor3), 0)\n",
    "stacked_tensor"
   ]
  },
  {
   "cell_type": "code",
   "execution_count": 13,
   "metadata": {},
   "outputs": [
    {
     "name": "stdout",
     "output_type": "stream",
     "text": [
      "tensor([ 0.2007, -0.2275, -7.9533], grad_fn=<SqueezeBackward4>)\n"
     ]
    }
   ],
   "source": [
    "import torch.nn as nn\n",
    "\n",
    "sample = torch.tensor([10., 10., 10.])\n",
    "linear = nn.Linear(3, 3, bias=False)\n",
    "print(linear(sample))"
   ]
  },
  {
   "cell_type": "code",
   "execution_count": 14,
   "metadata": {},
   "outputs": [
    {
     "name": "stdout",
     "output_type": "stream",
     "text": [
      "tensor([0.0900, 0.2447, 0.6652])\n"
     ]
    }
   ],
   "source": [
    "import torch.nn.functional as F\n",
    "\n",
    "tensor1 = torch.tensor([1.0, 2.0, 3.0])\n",
    "\n",
    "softmax_output = F.softmax(tensor1, dim=0)  \n",
    "\n",
    "print(softmax_output)"
   ]
  },
  {
   "cell_type": "code",
   "execution_count": 16,
   "metadata": {},
   "outputs": [
    {
     "name": "stdout",
     "output_type": "stream",
     "text": [
      "torch.Size([4, 100])\n",
      "tensor([[-1.1251,  0.5125, -0.7783,  1.6219,  1.5519,  0.1360,  2.6868,  0.6217,\n",
      "          0.4105, -0.5470,  0.2962,  0.8561,  0.1099,  1.9029, -1.7326,  0.6690,\n",
      "          0.2878, -0.8205,  0.1691,  0.5608, -0.1537, -0.8322,  1.4843,  0.7101,\n",
      "          0.3382, -1.3943, -0.5206,  0.9570,  0.7294, -0.4121, -0.1984,  0.6037,\n",
      "         -0.3845, -0.3648,  1.0655,  0.6682, -0.8470,  1.2346, -2.2213,  0.0669,\n",
      "         -1.7979, -0.5943, -0.2869,  2.2422, -1.0460,  0.0763, -0.9950,  0.4626,\n",
      "         -1.6690, -0.3267,  0.8637,  0.9545,  2.6320, -0.2676,  1.2551, -0.0221,\n",
      "          1.7466, -1.0541,  1.6902, -2.6598, -0.3974, -1.8263, -0.3484, -0.0360,\n",
      "         -0.9820, -1.7203,  0.2103,  0.8664,  1.1037,  2.0499,  0.3561,  0.3010,\n",
      "          2.5126, -1.1292, -0.8071,  1.2102,  1.3530, -0.4309, -1.2000, -0.5592,\n",
      "          0.9486, -0.2034, -1.9461,  0.1815, -0.7173,  0.6356,  0.2765, -1.1611,\n",
      "         -1.0791,  0.3204,  0.7836,  1.9641,  0.4604,  1.1143,  0.7760,  0.0946,\n",
      "          0.6653, -0.2225,  1.0439, -0.6400],\n",
      "        [-2.1979, -0.8576, -0.8037, -0.0140, -0.9313, -1.2712, -0.7071, -0.1795,\n",
      "          0.5567,  0.6039,  0.3665, -0.8732,  1.8153, -0.1551,  0.5047,  0.3647,\n",
      "          2.4653, -0.5117,  0.3675,  0.6339, -0.8142,  0.2283,  1.7421,  2.1445,\n",
      "          0.5139,  0.0393,  1.3310, -0.0702, -1.1982, -2.3377, -0.3119,  0.5176,\n",
      "          1.2300,  0.5384, -0.0506, -1.6722, -1.4724, -0.3627, -1.0908,  0.0565,\n",
      "         -0.0834, -0.3002, -0.6962,  1.5427,  1.4672, -0.9884,  1.3723, -0.4320,\n",
      "          0.5424,  0.0283, -1.1893, -1.2954, -0.8319, -0.1761, -0.7605, -0.8426,\n",
      "          1.9241,  0.7566, -0.8290, -1.5070,  0.2236,  0.6781,  1.1912, -0.1741,\n",
      "         -0.7106, -0.1094,  0.9115, -0.7776,  1.7629,  0.3054, -0.3451, -0.9249,\n",
      "          2.0811,  0.2341,  1.3776,  1.7015,  0.6837,  0.0166,  1.6496,  0.6300,\n",
      "         -2.4826, -0.0684,  1.9982, -0.7043,  0.3029,  0.8398, -1.4293, -1.1026,\n",
      "          2.2138,  1.6232, -0.7951, -1.4666, -1.6677, -0.1444, -0.3292,  0.0767,\n",
      "          1.0092, -0.0986, -1.4347, -1.6250],\n",
      "        [ 1.1099,  0.7023,  1.2428, -1.4328,  0.3365, -0.5677,  0.4769,  1.0256,\n",
      "         -0.6486, -0.6714, -0.8763, -0.3674, -0.9812,  1.1541, -0.4429,  1.0269,\n",
      "         -0.1874,  0.0549,  1.3315, -0.8021, -0.5983, -0.3748, -0.5460,  0.8750,\n",
      "         -2.8692, -0.0659, -1.4952, -0.0220, -1.7591, -1.5032,  0.4306, -0.2333,\n",
      "          1.2104, -0.4047,  1.9094,  1.2453,  0.0200, -0.8342, -0.2356, -0.7290,\n",
      "         -0.6142, -2.0020, -1.0195,  0.3031, -0.7741, -0.4336,  1.2232,  0.1538,\n",
      "         -1.3542,  1.7380, -0.2367,  0.0422,  1.6104, -0.4028,  1.2466, -0.2113,\n",
      "         -0.1140, -0.1687,  0.1247,  0.0813,  0.4131,  0.8259, -0.5318, -0.0629,\n",
      "         -0.2843,  1.1877,  2.2736,  0.1852,  0.6621,  0.5114,  0.0692, -0.7972,\n",
      "          0.7009,  0.7876, -0.4551, -1.1565,  1.5949,  1.0722,  0.4038, -0.1554,\n",
      "          1.5121,  0.3033, -2.0682, -1.8848,  0.0855,  0.4961,  0.9198,  0.1812,\n",
      "          0.8504,  0.4901,  1.1805, -0.9885, -1.1946, -0.2193, -0.6705, -2.3476,\n",
      "         -1.1773,  0.9607, -1.8048,  0.3026],\n",
      "        [-2.2127,  1.4401, -1.1133, -2.0553, -0.3631, -1.8716,  0.2735,  2.6084,\n",
      "         -1.2824, -1.9087, -0.4402, -0.9163,  2.4407, -0.6414,  1.3735, -0.3474,\n",
      "         -0.3522,  0.8405,  2.0107,  0.1975,  0.3362, -0.2728, -1.0896,  0.2947,\n",
      "          1.5062,  0.5044, -2.0232, -0.0921, -0.1383,  0.0980, -0.2671, -1.6995,\n",
      "         -1.8187, -0.9894,  2.2954,  0.2588,  0.7499, -1.9543,  0.1691,  0.9489,\n",
      "         -0.8039, -0.1069,  0.6275, -0.0140, -1.4300,  0.9769,  1.1209,  0.6375,\n",
      "          0.3556,  1.4525,  0.4639, -0.5701, -1.4412,  1.7731, -0.0141, -1.8757,\n",
      "         -2.0417, -0.8441, -1.5549,  0.9897,  0.9146, -0.1750,  0.0825, -0.3980,\n",
      "          0.6149,  0.8975,  1.5411,  0.2715,  0.9968,  0.2042,  1.1162, -0.1060,\n",
      "         -0.9554, -0.5433, -0.7722,  0.1091, -0.6220, -1.5406, -1.6555, -0.4044,\n",
      "          0.3276, -0.7435, -2.1773,  1.6751,  0.1322, -0.5010, -0.4311, -1.8902,\n",
      "          0.1775, -1.7362,  1.2061, -1.1151,  1.9542, -0.7801, -1.2098,  0.2737,\n",
      "         -0.0049,  0.2954, -0.0186,  0.6731]], grad_fn=<EmbeddingBackward0>)\n"
     ]
    }
   ],
   "source": [
    "vocab_size = 1000\n",
    "embeding_dim = 100\n",
    "embedding = nn.Embedding(vocab_size, embeding_dim)\n",
    "\n",
    "input_indices =torch.LongTensor([1,5,3,2])\n",
    "\n",
    "embeded_output = embedding(input_indices)\n",
    "print(embeded_output.shape)\n",
    "print(embeded_output)"
   ]
  },
  {
   "cell_type": "code",
   "execution_count": null,
   "metadata": {},
   "outputs": [],
   "source": [
    "a = torch.tensor([[1,2],[3,4],[5,6]])\n",
    "b = torch.tensor([[7,8,9],[10,11,12]])\n",
    "\n",
    "print(torch.matmul(a,b))"
   ]
  }
 ],
 "metadata": {
  "kernelspec": {
   "display_name": "cuda",
   "language": "python",
   "name": "python3"
  },
  "language_info": {
   "codemirror_mode": {
    "name": "ipython",
    "version": 3
   },
   "file_extension": ".py",
   "mimetype": "text/x-python",
   "name": "python",
   "nbconvert_exporter": "python",
   "pygments_lexer": "ipython3",
   "version": "3.13.2"
  }
 },
 "nbformat": 4,
 "nbformat_minor": 4
}
